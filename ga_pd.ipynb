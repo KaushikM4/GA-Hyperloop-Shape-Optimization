{
 "cells": [
  {
   "cell_type": "code",
   "execution_count": null,
   "id": "80a50007",
   "metadata": {},
   "outputs": [],
   "source": [
    "\n",
    "class Control:\n",
    "    def __init__(self,x=0,y=0):\n",
    "        self.x=x\n",
    "        self.y=y\n",
    "P0=Control(0.0,0.0)\n",
    "P1=Control(1.0,2.0)\n",
    "P2=Control(1.1276798657206073,1.5026703288319219)\n",
    "P3=Control(0.0,6.0)\n",
    "num_points=80\n"
   ]
  },
  {
   "cell_type": "code",
   "execution_count": null,
   "id": "f137704a",
   "metadata": {},
   "outputs": [],
   "source": [
    "import numpy as np\n",
    "import matplotlib.pyplot as plt\n",
    "import subprocess\n",
    "import random"
   ]
  },
  {
   "cell_type": "code",
   "execution_count": null,
   "id": "ba46e49c",
   "metadata": {},
   "outputs": [],
   "source": [
    "def Bezier(P0, P1, P2, P3, t):\n",
    "\n",
    "    t1 = P0.x*( - pow(t, 3) + 3*pow(t, 2) - 3*t + 1)\n",
    "    t2 = P1.x * (3*pow(t, 3) - 6 * pow(t, 2) + 3 * t)\n",
    "    t3 = P2.x * (-3*pow(t, 3) + 3 * pow(t, 2))\n",
    "    t4 = P3.x * (pow(t, 3))\n",
    "\n",
    "    P_x = t1+t2+t3+t4\n",
    "    \n",
    "    t1 = P0.y * (-pow(t, 3) + 3 * pow(t, 2) - 3 * t + 1)\n",
    "    t2 = P1.y * (3 * pow(t, 3) - 6 * pow(t, 2) + 3 * t)\n",
    "    t3 = P2.y * (-3 * pow(t, 3) + 3 * pow(t, 2))\n",
    "    t4 = P3.y * (pow(t, 3))\n",
    "\n",
    "    P_y = t1 + t2 + t3 + t4\n",
    "\n",
    "    return P_x,P_y\n",
    "\n",
    "print(Bezier(P0, P1, P2, P3, 1))\n",
    "Bezier_curve=np.vectorize(Bezier)\n",
    "t=np.linspace(0,1,num_points)\n",
    "curve_x,curve_y=Bezier_curve(P0, P1, P2, P3, t)\n",
    "plt.plot(curve_x,curve_y)"
   ]
  },
  {
   "cell_type": "code",
   "execution_count": null,
   "id": "23b4ca81",
   "metadata": {},
   "outputs": [],
   "source": [
    "\n"
   ]
  },
  {
   "cell_type": "code",
   "execution_count": null,
   "id": "1102d60c",
   "metadata": {},
   "outputs": [],
   "source": [
    "\n",
    "\n",
    "# Compile the C++ code\n",
    "subprocess.run([\"g++\", \"pressure_drag.cpp\", \"-o\", \"mycode\"])\n"
   ]
  },
  {
   "cell_type": "code",
   "execution_count": null,
   "id": "6fc82b17",
   "metadata": {},
   "outputs": [],
   "source": [
    "def drag_compute(file_name):\n",
    "    # Run the compiled code and capture its output\n",
    "    result = subprocess.run(\"./mycode\", capture_output=True, text=True)\n",
    "    # Print the output of the C++ code\n",
    "    drag=result.stdout\n",
    "    print(drag+\"\\n\")\n",
    "    return drag\n"
   ]
  },
  {
   "cell_type": "code",
   "execution_count": null,
   "id": "e4cf9bab",
   "metadata": {},
   "outputs": [],
   "source": [
    "gen=1\n",
    "indiv=1\n",
    "filename=\"P1.txt\"\n",
    "Control_file=open(filename,'w')\n",
    "Control_file.write(str(P1.x)+\"\\n\"+str(P1.y))\n",
    "Control_file.close()"
   ]
  },
  {
   "cell_type": "code",
   "execution_count": null,
   "id": "3494a8f4",
   "metadata": {},
   "outputs": [],
   "source": [
    "gen=1\n",
    "#min=0\n",
    "#Point to be varied is P1\n",
    "P1_x=0.5+np.random.rand(200)\n",
    "P1_y=3.5+np.random.rand(200)\n",
    "def population(P1_x,P1_y):\n",
    "    drag=np.zeros(200)\n",
    "    coord=np.zeros((200,80,2))\n",
    "    min=0\n",
    "    for i in range(200):\n",
    "        P1.x=P1_x[i]\n",
    "        P1.y=P1_y[i]\n",
    "        print(P1.x,P1.y)\n",
    "        indiv=i+1\n",
    "        print(\"gen\"+str(gen)+\"indiv\"+str(indiv))\n",
    "        coord[i,:,:]=np.transpose(Bezier_curve(P0, P2, P1, P3, t))\n",
    "        a=plt.figure()\n",
    "        a.figwidth=2.5\n",
    "        a.figheight=2.5\n",
    "        plt.plot(-coord[i,:,0],-coord[i,:,1])\n",
    "        plt.show()\n",
    "        filename=\"P2.txt\"\n",
    "        Control_file=open(filename,'w')\n",
    "        Control_file.write(str(P1.x)+\"\\n\"+str(P1.y))\n",
    "        Control_file.close()\n",
    "        drag[i]=drag_compute(filename)\n",
    "        if drag[i]<drag[min]:\n",
    "            min=i\n",
    "    return (drag,min,coord)\n",
    "(drag,min,coord)=population(P1_x,P1_y)\n",
    "print(f'Minimum drag of gen{gen} obtained at P2 coordinates ({P1_x[min]},{P1_y[min]})\\nDrag={drag[min]}kN')\n",
    "plt.plot(-coord[min,:,0],-coord[min,:,1])"
   ]
  },
  {
   "cell_type": "code",
   "execution_count": null,
   "id": "c28d896b",
   "metadata": {},
   "outputs": [],
   "source": [
    "print(f'Minimum drag of gen{gen} obtained at P1 coordinates ({P1_x[min]},{P1_y[min]})\\nDrag={drag[min]}kN')\n",
    "plt.plot(-coord[min,:,0],-coord[min,:,1])"
   ]
  },
  {
   "cell_type": "code",
   "execution_count": null,
   "id": "31dba7ca",
   "metadata": {},
   "outputs": [],
   "source": [
    "#Sorting individuals based on drag value.The ones offering lowest drag are brought to the beginning\n",
    "def sort_pod(P1_x,P1_y,drag):\n",
    "    indices = np.argsort(drag)\n",
    "    P1_xs=P1_x[indices]\n",
    "    P1_ys=P1_y[indices]\n",
    "    drag_s=drag[indices]\n",
    "    print(indices)\n",
    "    for i in range(80):\n",
    "        print(f'({P1_xs[i]},{P1_ys[i]}),drag={drag_s[i]}kN')\n",
    "    return P1_xs,P1_ys\n",
    "P1_xs,P1_ys=sort_pod(P1_x,P1_y,drag)"
   ]
  },
  {
   "cell_type": "code",
   "execution_count": null,
   "id": "8d804a71",
   "metadata": {},
   "outputs": [],
   "source": [
    "#Binary Encoding\n",
    "str_len=16\n",
    "def bin_enc(P1_xs,P1_ys,str_len):\n",
    "    #Scaling to an 8-bit binary string\n",
    "    P1_xsb=(P1_xs-0.5)*(2**str_len-1)\n",
    "    P1_ysb=(P1_ys-3.5)*(2**str_len-1)\n",
    "    P1_xsb=P1_xsb.astype('int32')\n",
    "    P1_ysb=P1_ysb.astype('int32')\n",
    "    print(np.amax(P1_xsb),np.amin(P1_xsb))\n",
    "    print(np.amax(P1_ysb),np.amin(P1_ysb))\n",
    "    binary_repr_v = np.vectorize(np.binary_repr)\n",
    "    P1_xsb=binary_repr_v(P1_xsb,str_len)\n",
    "    P1_ysb=binary_repr_v(P1_ysb,str_len)\n",
    "    print(len(P1_xsb),len(P1_ysb))\n",
    "    print(P1_xsb,P1_ysb)\n",
    "    return (P1_xsb,P1_ysb)\n",
    "(P1_xsb,P1_ysb)=bin_enc(P1_xs,P1_ys,str_len)\n",
    "print(type(P1_xsb[0]))"
   ]
  },
  {
   "cell_type": "code",
   "execution_count": null,
   "id": "d65bcc33",
   "metadata": {},
   "outputs": [],
   "source": [
    "#k way Tournament Selection\n",
    "def tournament_selection(k):\n",
    "    parents=np.random.randint(0,200, size=(int(200/2),k))\n",
    "    parents = np.sort(parents,axis=1)\n",
    "    parents=parents[:,[0,1]]\n",
    "    return parents\n",
    "ind_new_gen=tournament_selection(5)"
   ]
  },
  {
   "cell_type": "code",
   "execution_count": null,
   "id": "7f3b9948",
   "metadata": {},
   "outputs": [],
   "source": [
    "#Crossover\n",
    "#crossover probability of 100 percent\n",
    "def crossover(P1_xsb,P1_ysb,ind_new_gen,cross_p=1):\n",
    "    P1_xsbc=P1_xsb\n",
    "    P1_ysbc=P1_ysb\n",
    "    print(\"before\",P1_xsbc[50])\n",
    "    for i in range(0,100):\n",
    "        #print(\"before\",WLsbn[2*i])\n",
    "        cross_p=random.randint(0,len(P1_xsb[0]))\n",
    "        parx1=(P1_xsb[ind_new_gen[i,0]])\n",
    "        parx2=(P1_xsb[ind_new_gen[i,1]])\n",
    "        P1_xsbc[2*i]=parx1[0:cross_p]+parx2[cross_p:]\n",
    "        P1_xsbc[2*i+1]=parx2[0:cross_p]+parx1[cross_p:]\n",
    "        pary1=(P1_ysb[ind_new_gen[i,0]])\n",
    "        pary2=(P1_ysb[ind_new_gen[i,1]])\n",
    "        P1_ysbc[2*i]=pary1[:cross_p]+pary2[cross_p:]\n",
    "        P1_ysbc[2*i+1]=pary2[:cross_p]+pary1[cross_p:]\n",
    "        #print(\"after\",WLsbn[2*1])\n",
    "    return (P1_xsbc, P1_ysbc)\n",
    "P1_xsbc, P1_ysbc=crossover(P1_xsb,P1_ysb,ind_new_gen,1)\n",
    "print(\"after\",P1_xsbc[50])"
   ]
  },
  {
   "cell_type": "code",
   "execution_count": null,
   "id": "c236169f",
   "metadata": {},
   "outputs": [],
   "source": [
    "#Mutation\n",
    "mut_prob=0.2\n",
    "def mutation(P1_xsbc, P1_ysbc,mut_prob):\n",
    "    mut_child=np.random.randint(0,200,size=int(200*mut_prob))\n",
    "    print(mut_child)\n",
    "    P1_xsbcm=P1_xsbc\n",
    "    P1_ysbcm=P1_ysbc\n",
    "    for i in range(0,int(200*mut_prob)):\n",
    "        mut_p=random.randint(0,len(P1_xsbc[0])-1)\n",
    "        #print(mut_p)\n",
    "        str1=P1_xsbc[mut_child[i]]\n",
    "        #print(len(str1))\n",
    "        str2=P1_ysbc[mut_child[i]]\n",
    "        #print(\"before\",P1_xsbcm[mut_child[i]])\n",
    "        if str1[mut_p]=='0':\n",
    "            str1=str1[:mut_p]+'1'+str1[mut_p+1:]\n",
    "        else:\n",
    "            str1=str1[:mut_p]+'0'+str1[mut_p+1:]\n",
    "        if str2[mut_p]=='0':\n",
    "            str2=str2[:mut_p]+'1'+str1[mut_p+1:]\n",
    "        else:\n",
    "            str2=str2[:mut_p]+'0'+str1[mut_p+1:]\n",
    "        P1_xsbcm[mut_child[i]]=str1\n",
    "        P1_ysbcm[mut_child[i]]=str2\n",
    "        #print(\"after\",P1_xsbcm[mut_child[i]])\n",
    "    return (P1_xsbcm, P1_ysbcm)\n",
    "P1_xsbcm, P1_ysbcm=mutation(P1_xsbc, P1_ysbc,0.2)\n",
    "\n",
    "        \n"
   ]
  },
  {
   "cell_type": "code",
   "execution_count": null,
   "id": "3e2b6191",
   "metadata": {},
   "outputs": [],
   "source": [
    "#Decoding back to coordinates\n",
    "def decode(P1_xsbcm, P1_ysbcm):\n",
    "    def convert(str1,str2):\n",
    "        ex=int(str1,2)\n",
    "        ey=int(str2,2)\n",
    "        return (ex,ey)\n",
    "    decode=np.vectorize(convert)\n",
    "    (P1_xn, P1_yn)=decode(P1_xsbcm, P1_ysbcm)\n",
    "    P1_xn=P1_xn/(2**str_len-1)+0.5\n",
    "    P1_yn=P1_yn/(2**str_len-1)+3.5\n",
    "    return (P1_xn, P1_yn)\n",
    "(P1_xn, P1_yn)=decode(P1_xsbcm, P1_ysbcm)\n",
    "print(P1_xn, P1_yn)"
   ]
  },
  {
   "cell_type": "code",
   "execution_count": null,
   "id": "7b302fb5",
   "metadata": {},
   "outputs": [],
   "source": [
    "#Convergence Condition/Loop\n",
    "P1_x=0.5+np.random.rand(200)\n",
    "P1_y=3.5+np.random.rand(200)\n",
    "min_drag=np.zeros((11,3))\n",
    "for gen in range(1,12):\n",
    "    (drag,min,coord)=population(P1_x,P1_y)\n",
    "    min_drag[gen-1,0]=P1_x[min]\n",
    "    min_drag[gen-1,1]=P1_y[min]\n",
    "    min_drag[gen-1,2]=drag[min]\n",
    "    if gen==11:\n",
    "        break\n",
    "    (P1_xs,P1_ys)=sort_pod(P1_x,P1_y,drag)\n",
    "    (P1_xsb,P1_ysb)=bin_enc(P1_xs,P1_ys,str_len)\n",
    "    ind_new_gen=tournament_selection(5)\n",
    "    (P1_xsbc, P1_ysbc)=crossover(P1_xsb,P1_ysb,ind_new_gen,1)\n",
    "    (P1_xsbcm, P1_ysbcm)=mutation(P1_xsbc, P1_ysbc,0.2)\n",
    "    (P1_xn, P1_yn)=decode(P1_xsbcm, P1_ysbcm)\n",
    "    (P1_x,P1_y)=(P1_xn, P1_yn)\n",
    "print(min_drag)\n",
    "min=np.argmin(min_drag[:,2])\n",
    "print(f'Minimum drag at gen{min+1} obtained at P2 coordinates ({P1_x[min]},{P1_y[min]})\\nDrag={drag[min]}kN')\n",
    "plt.plot(-coord[min,:,0],-coord[min,:,1])"
   ]
  },
  {
   "cell_type": "code",
   "execution_count": null,
   "id": "5233bd81",
   "metadata": {},
   "outputs": [],
   "source": [
    "min=np.argmin(min_drag[:,2])\n",
    "print(f'Minimum drag at gen{min+1} obtained at P1 coordinates ({P1_x[min]},{P1_y[min]})\\nDrag={drag[min]}kN')\n",
    "plt.plot(-coord[min,:,0],-coord[min,:,1])"
   ]
  },
  {
   "cell_type": "code",
   "execution_count": null,
   "id": "ba43ec84",
   "metadata": {},
   "outputs": [],
   "source": []
  }
 ],
 "metadata": {
  "kernelspec": {
   "display_name": "Python 3 (ipykernel)",
   "language": "python",
   "name": "python3"
  },
  "language_info": {
   "codemirror_mode": {
    "name": "ipython",
    "version": 3
   },
   "file_extension": ".py",
   "mimetype": "text/x-python",
   "name": "python",
   "nbconvert_exporter": "python",
   "pygments_lexer": "ipython3",
   "version": "3.9.16"
  }
 },
 "nbformat": 4,
 "nbformat_minor": 5
}
